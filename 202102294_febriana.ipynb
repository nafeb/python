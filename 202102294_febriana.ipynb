{
 "cells": [
  {
   "cell_type": "code",
   "execution_count": 14,
   "id": "afe76c2f",
   "metadata": {},
   "outputs": [
    {
     "name": "stdout",
     "output_type": "stream",
     "text": [
      "=======================================\n",
      "Bahwa saya yang bertanda tangan di bawah ini\n",
      "=======================================\n",
      "Nama          : FEBRIANA\n",
      "Alamat        : kristen\n",
      "Tgllahir      : Pontianak,18 februari 2001\n",
      "Jeniskelamin  : Perempuan\n",
      "Agama         : kristen\n",
      "Status        : Mahasiswa\n",
      "=======================================\n",
      "Pendidikan Formal\n",
      "Tamatan       : SD Negeri 06 Pontianak    Berijazah\n",
      "Tamatan       : SMP Pertiwi Pontianak     Berijazah\n",
      "Tamatan       : SMK YPK Pontianak         Berijazah\n",
      "=======================================\n",
      "Pendidikan non-formal\n",
      "Berbicara kepada yang lebih tua dengan sopan\n",
      "Cara berSikap dan sopan santun kepada masyarakat\n",
      "Lebih mandiri dan kuat\n",
      "Bertanggung jawab atas masalah yang di hadapi\n",
      "=======================================\n",
      "Organisasi\n",
      "Menjadi sekretaris waktu SMP\n",
      "Menjadi Bendahara waktu SMK\n",
      "Menjadi Ketua kelas C4\n",
      "=======================================\n",
      "Hubungi\n",
      "Nohp          : 081257281091\n",
      "Email         : febrianachen664@gmail.com\n",
      "ig            : fa_febriana\n"
     ]
    }
   ],
   "source": [
    "#cv\n",
    "Nama = \"FEBRIANA\"\n",
    "Tgllahir = \"Pontianak,18 februari 2001\"\n",
    "Jeniskelamin = \"Perempuan\"\n",
    "Alamat = \"Jl.Desa kapur komp.megah asri park\"\n",
    "Agama =\"kristen\"\n",
    "Nohp = \"081257281091\"\n",
    "Status = \"Mahasiswa\"\n",
    "Email= \"febrianachen664@gmail.com\"\n",
    "Ig = \"fa_febriana\"\n",
    "\n",
    "#pendidikan\n",
    "sd= \"SD Negeri 06 Pontianak    Berijazah\"\n",
    "smp= \"SMP Pertiwi Pontianak     Berijazah\"\n",
    "smk=\"SMK YPK Pontianak         Berijazah\"\n",
    "\n",
    "#latar belakang\n",
    "#hubungi saya\n",
    "#hobby\n",
    "#keahlian\n",
    "\n",
    "#cetak\n",
    "print(\"=======================================\")\n",
    "print(\"Bahwa saya yang bertanda tangan di bawah ini\")\n",
    "print(\"=======================================\")\n",
    "print(\"Nama          :\", Nama)\n",
    "print(\"Alamat        :\", Agama)\n",
    "print(\"Tgllahir      :\", Tgllahir)\n",
    "print(\"Jeniskelamin  :\", Jeniskelamin)\n",
    "print(\"Agama         :\", Agama)\n",
    "print(\"Status        :\", Status)\n",
    "\n",
    "print(\"=======================================\")\n",
    "print(\"Pendidikan Formal\")\n",
    "print(\"Tamatan       :\", sd)\n",
    "print(\"Tamatan       :\",smp)\n",
    "print(\"Tamatan       :\",smk)\n",
    "\n",
    "print(\"=======================================\")\n",
    "print(\"Pendidikan non-formal\")\n",
    "print(\"Berbicara kepada yang lebih tua dengan sopan\")\n",
    "print(\"Cara berSikap dan sopan santun kepada masyarakat\")\n",
    "print(\"Lebih mandiri dan kuat\")\n",
    "print(\"Bertanggung jawab atas masalah yang di hadapi\")\n",
    "\n",
    "print(\"=======================================\")\n",
    "print(\"Organisasi\")\n",
    "print(\"Menjadi sekretaris waktu SMP\")\n",
    "print(\"Menjadi Bendahara waktu SMK\")\n",
    "print(\"Menjadi Ketua kelas C4\")\n",
    "\n",
    "print(\"=======================================\")\n",
    "print(\"Hubungi\")\n",
    "print(\"Nohp          :\", Nohp)\n",
    "print(\"Email         :\", Email)\n",
    "print(\"ig            :\", Ig)"
   ]
  },
  {
   "cell_type": "code",
   "execution_count": 2,
   "id": "1eff1327",
   "metadata": {},
   "outputs": [
    {
     "name": "stdout",
     "output_type": "stream",
     "text": [
      "Masukkan panjang :2\n",
      "Masukkan lebar :3\n",
      "luasnya adalah 6\n"
     ]
    }
   ],
   "source": [
    "#luas persegi panjang\n",
    "panjang=int(input(\"Masukkan panjang :\"))\n",
    "lebar=int(input(\"Masukkan lebar :\"))\n",
    "luas= panjang * lebar\n",
    "print(\"luasnya adalah\",luas)"
   ]
  },
  {
   "cell_type": "code",
   "execution_count": 5,
   "id": "f0607f0a",
   "metadata": {},
   "outputs": [
    {
     "name": "stdout",
     "output_type": "stream",
     "text": [
      "Masukkan detik :172800\n",
      "Hari: 2.0\n",
      "Jam : 48.0\n",
      "Menit: 2880.0\n",
      "detik: 172800.0\n"
     ]
    }
   ],
   "source": [
    "#konversi detik\n",
    "d = float(input(\"Masukkan detik :\"))\n",
    "h = float(d/ 86400)\n",
    "j= float(d/3600)\n",
    "m = float(d/60)\n",
    "print(\"Hari:\",h)\n",
    "print(\"Jam :\",j)\n",
    "print(\"Menit:\",m)\n",
    "print(\"detik:\",d)\n"
   ]
  },
  {
   "cell_type": "code",
   "execution_count": 6,
   "id": "d92e631a",
   "metadata": {},
   "outputs": [
    {
     "name": "stdout",
     "output_type": "stream",
     "text": [
      "celcius :23\n",
      "Reamur :33\n",
      "Fahreheit :56\n",
      "Celcius ke Reamur : 18.4\n",
      "Celcius ke Fahreheit : 73.4\n"
     ]
    }
   ],
   "source": [
    "#konversi suhu\n",
    "celcius = float(input(\"celcius :\"))\n",
    "reamur = float(input(\"Reamur :\"))\n",
    "fahreheit =float(input(\"Fahreheit :\"))\n",
    "CR = celcius * 4/5\n",
    "CF = (9/5 * celcius) + 32\n",
    "print (\"Celcius ke Reamur :\", CR)\n",
    "print (\"Celcius ke Fahreheit :\", CF)"
   ]
  },
  {
   "cell_type": "code",
   "execution_count": 7,
   "id": "e3cb3c0f",
   "metadata": {},
   "outputs": [
    {
     "name": "stdout",
     "output_type": "stream",
     "text": [
      "Masukkan panjang jari-jari lingkaran :23\n",
      "Luas lingkaran adalah :  1661.06\n"
     ]
    }
   ],
   "source": [
    "#menghitung luas lingkaran\n",
    "phi = 3.14\n",
    "r = float(input(\"Masukkan panjang jari-jari lingkaran :\"))\n",
    "luas = float(phi *  r * r)\n",
    "print(\"Luas lingkaran adalah : \",luas)"
   ]
  },
  {
   "cell_type": "code",
   "execution_count": null,
   "id": "d49955c1",
   "metadata": {},
   "outputs": [],
   "source": []
  }
 ],
 "metadata": {
  "kernelspec": {
   "display_name": "Python 3",
   "language": "python",
   "name": "python3"
  },
  "language_info": {
   "codemirror_mode": {
    "name": "ipython",
    "version": 3
   },
   "file_extension": ".py",
   "mimetype": "text/x-python",
   "name": "python",
   "nbconvert_exporter": "python",
   "pygments_lexer": "ipython3",
   "version": "3.8.8"
  }
 },
 "nbformat": 4,
 "nbformat_minor": 5
}
